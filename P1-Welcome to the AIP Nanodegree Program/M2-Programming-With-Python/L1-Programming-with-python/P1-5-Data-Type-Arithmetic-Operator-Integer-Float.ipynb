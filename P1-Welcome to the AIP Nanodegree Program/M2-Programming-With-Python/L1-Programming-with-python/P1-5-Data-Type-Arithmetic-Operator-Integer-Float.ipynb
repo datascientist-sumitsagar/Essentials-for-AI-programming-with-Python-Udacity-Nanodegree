{
 "cells": [
  {
   "cell_type": "markdown",
   "metadata": {},
   "source": [
    "-  case-sensitive"
   ]
  },
  {
   "cell_type": "markdown",
   "metadata": {},
   "source": [
    "# Arithmetic Operation\n",
    "\n",
    "-  Addition ( + )\n",
    "-  Substraction ( - )\n",
    "-  Multiplication ( * )\n",
    "-  Division ( / )\n",
    "-  Exponentiation ( ** )\n",
    "-  Caret ( ^ ) :- bitwise XOR , Use later\n",
    "-  modulo ( % )  :- # Return Remainder\n",
    "-  Integer Divison ( // ) :- Round Value"
   ]
  },
  {
   "cell_type": "code",
   "execution_count": 10,
   "metadata": {},
   "outputs": [
    {
     "name": "stdout",
     "output_type": "stream",
     "text": [
      "7\n",
      "-7\n",
      "1296\n",
      "8.0\n",
      "1.3310000000000004\n",
      "2\n",
      "3\n"
     ]
    }
   ],
   "source": [
    "print ( 2 + 5)\n",
    "print ( 3 - 10)\n",
    "print ( 24 * 54)\n",
    "print ( 24 / 3)\n",
    "print ( 1.1 ** 3)\n",
    "print ( 11 % 3)\n",
    "print ( 11 // 3)"
   ]
  },
  {
   "cell_type": "markdown",
   "metadata": {},
   "source": [
    "### Integers and Floats\n",
    "\n",
    "-  Float ( ex:- 0.75) # for decimal or floating point values\n",
    "-  int "
   ]
  },
  {
   "cell_type": "code",
   "execution_count": 12,
   "metadata": {},
   "outputs": [
    {
     "name": "stdout",
     "output_type": "stream",
     "text": [
      "0.75\n"
     ]
    },
    {
     "data": {
      "text/plain": [
       "float"
      ]
     },
     "execution_count": 12,
     "metadata": {},
     "output_type": "execute_result"
    }
   ],
   "source": [
    "print ( 3/4) #Output will be float\n",
    "x = 4.7\n",
    "type(x)"
   ]
  },
  {
   "cell_type": "markdown",
   "metadata": {},
   "source": [
    "### Example :- Same number but different data type with using decimal only"
   ]
  },
  {
   "cell_type": "code",
   "execution_count": 14,
   "metadata": {},
   "outputs": [
    {
     "name": "stdout",
     "output_type": "stream",
     "text": [
      "<class 'int'>\n",
      "<class 'float'>\n",
      "<class 'float'>\n"
     ]
    }
   ],
   "source": [
    "x = 40\n",
    "y = 40.0\n",
    "z = 40.2\n",
    "print(type(x))\n",
    "print(type(y))\n",
    "print(type(z))"
   ]
  },
  {
   "cell_type": "markdown",
   "metadata": {},
   "source": [
    "### Example :- Add different Data type\n"
   ]
  },
  {
   "cell_type": "code",
   "execution_count": 17,
   "metadata": {},
   "outputs": [
    {
     "name": "stdout",
     "output_type": "stream",
     "text": [
      "<class 'int'>\n",
      "<class 'float'>\n",
      "<class 'float'>\n"
     ]
    }
   ],
   "source": [
    "    x = 42\n",
    "    y = 1.5\n",
    "    \n",
    "    z = 42 + 1.5 # Addition of int & float will be float\n",
    "    \n",
    "print(type(x))\n",
    "print(type(y))\n",
    "print(type(z))"
   ]
  },
  {
   "cell_type": "markdown",
   "metadata": {},
   "source": [
    "### Example :- Change data type"
   ]
  },
  {
   "cell_type": "code",
   "execution_count": 23,
   "metadata": {},
   "outputs": [
    {
     "name": "stdout",
     "output_type": "stream",
     "text": [
      "<class 'float'>\n",
      "42\n",
      "<class 'int'>\n"
     ]
    }
   ],
   "source": [
    "  x = 42.5 # 42.5 is float\n",
    "print (type(x))\n",
    "\n",
    "print(int(42.5)) # conversion of float to int will remove integer after decimal\n",
    "print(type(int(38.5))) # 38.5 is float"
   ]
  },
  {
   "cell_type": "code",
   "execution_count": null,
   "metadata": {},
   "outputs": [],
   "source": []
  }
 ],
 "metadata": {
  "kernelspec": {
   "display_name": "Python 3",
   "language": "python",
   "name": "python3"
  },
  "language_info": {
   "codemirror_mode": {
    "name": "ipython",
    "version": 3
   },
   "file_extension": ".py",
   "mimetype": "text/x-python",
   "name": "python",
   "nbconvert_exporter": "python",
   "pygments_lexer": "ipython3",
   "version": "3.6.5"
  }
 },
 "nbformat": 4,
 "nbformat_minor": 2
}
