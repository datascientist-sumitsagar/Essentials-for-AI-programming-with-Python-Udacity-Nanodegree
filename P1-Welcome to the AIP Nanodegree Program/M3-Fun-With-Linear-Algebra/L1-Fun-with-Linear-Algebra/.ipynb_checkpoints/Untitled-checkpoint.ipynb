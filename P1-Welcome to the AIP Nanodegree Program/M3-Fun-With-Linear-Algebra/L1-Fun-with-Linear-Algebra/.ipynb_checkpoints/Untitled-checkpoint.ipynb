{
 "cells": [
  {
   "cell_type": "markdown",
   "metadata": {},
   "source": [
    "### Vectors \n",
    "Different view from different industry\n",
    "-  Physics Student :-\n",
    "-  Mathematics Student :-\n",
    "-  Computer Science Student :-"
   ]
  },
  {
   "cell_type": "markdown",
   "metadata": {},
   "source": [
    "### Vectors Lab\n",
    "In this notebook you will learn how to graph two dimensional (2D) vectors and certain vector computations.\n",
    "\n",
    "Specifically:\n",
    "\n",
    "Plotting a 2D vector\n",
    "Multiplying a 2D vector by a scalar and plotting the results\n",
    "Adding two 2D vectors together and plotting the results\n",
    "For this lab, we will be using the python package NumPy for creating vectors and computing vector operations. For the graphing aspects of the lab, we will be using python package Matplotlib.\n",
    "\n",
    "Plotting a Vector in 2D\n",
    "For this part of the lab, we will plot the vector $\\vec{v}$ defined below.\n",
    "\n",
    "$\\hspace{1cm}\\vec{v} = \\begin{bmatrix} 1\\\\ 1\\end{bmatrix}$\n",
    "\n",
    "Below is an outline that describes what is included in the Python code to plot vector $\\vec{v}$.\n",
    "\n",
    "Make both NumPy and Matlibplot python packages available using the import method\n",
    " \n",
    "Define vector $\\vec{v}$\n",
    " \n",
    "Plot vector $\\vec{v}$ using Matlibplot\n",
    "Create a variable ax to reference the axes of the plot\n",
    "Plot the origin as a red dot at point 0,0 using ax and plot method\n",
    "Plot vector $\\vec{v}$ as a blue arrow with origin at 0,0 using ax and arrow method\n",
    "Format x-axis\n",
    "Set limits using xlim method\n",
    "Set major tick marks using ax and set_xticks method\n",
    "Format y-axis\n",
    "Set limits using ylim method\n",
    "Set major tick marks using ax and set_yticks method\n",
    "Create the gridlines using grid method\n",
    "Display the plot using show method"
   ]
  },
  {
   "cell_type": "code",
   "execution_count": 16,
   "metadata": {},
   "outputs": [
    {
     "data": {
      "image/png": "[encoded data removed]",
      "text/plain": [
       "<Figure size 432x288 with 1 Axes>"
      ]
     },
     "metadata": {},
     "output_type": "display_data"
    }
   ],
   "source": [
    "#Importing Numpy and matplotlib\n",
    "import numpy as np\n",
    "import matplotlib.pyplot as plt\n",
    "\n",
    "# Define vector v\n",
    "v = np.array([1,1])\n",
    "\n",
    "# Define Scalar a\n",
    "a =3\n",
    "\n",
    "# Define vector av - v as a vector multiplied by scalar a\n",
    "av = a*v\n",
    "\n",
    "# plot vector v as blue arrow with red dot at origin(0,0) using matplotlib\n",
    "\n",
    "# creates axis of plot refernced 'ax'\n",
    "ax = plt.axes()\n",
    "\n",
    "# plot red dot at origin\n",
    "ax.plot(0,0,'or')\n",
    "\n",
    "# plot vector v as blue arrow starting at origin(0,0)\n",
    "ax.arrow(0, 0, *v, color='b',linewidth = 2.5,head_width = 0.30, head_length = 0.35)\n",
    "\n",
    "# plot vector as dotted (linestyle='dotted') vector of cyan color(color='c')\n",
    "# using ax.arrow() above as template for the plot\n",
    "ax.arrow()\n",
    "\n",
    "# set limit for x axis\n",
    "plt.xlim(-2,4)\n",
    "\n",
    "\n",
    "\n",
    "# set limit for y axis\n",
    "plt.ylim(-2,4)\n",
    "\n",
    "\n",
    "# create gridlines for tick marks\n",
    "plt.grid(b=True,which='major' )\n",
    "\n",
    "\n",
    "plt.show()"
   ]
  },
  {
   "cell_type": "code",
   "execution_count": null,
   "metadata": {},
   "outputs": [],
   "source": []
  }
 ],
 "metadata": {
  "kernelspec": {
   "display_name": "Python 3",
   "language": "python",
   "name": "python3"
  },
  "language_info": {
   "codemirror_mode": {
    "name": "ipython",
    "version": 3
   },
   "file_extension": ".py",
   "mimetype": "text/x-python",
   "name": "python",
   "nbconvert_exporter": "python",
   "pygments_lexer": "ipython3",
   "version": "3.6.5"
  }
 },
 "nbformat": 4,
 "nbformat_minor": 2
}
