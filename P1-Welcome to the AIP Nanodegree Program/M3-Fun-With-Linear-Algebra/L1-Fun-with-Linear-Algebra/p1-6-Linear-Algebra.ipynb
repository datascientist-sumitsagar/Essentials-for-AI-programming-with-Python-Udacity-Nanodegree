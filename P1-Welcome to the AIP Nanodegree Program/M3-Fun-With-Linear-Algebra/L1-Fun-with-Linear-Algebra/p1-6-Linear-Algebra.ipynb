{
 "cells": [
  {
   "cell_type": "markdown",
   "metadata": {},
   "source": [
    "### Vectors \n",
    "Different view from different industry\n",
    "-  Physics Student :-\n",
    "-  Mathematics Student :-\n",
    "-  Computer Science Student :-"
   ]
  },
  {
   "cell_type": "markdown",
   "metadata": {},
   "source": [
    "### Vectors Lab Solutions\n",
    "Below you will find the solutions to the Vectors Lab for:\n",
    "\n",
    "   1. Multipling a 2D vector by a scalar and plotting the results.\n",
    " \n",
    "   2. Adding two 2D vectors together and plotting the results.\n",
    "\n",
    "### TODO: Multiply Vector by Scalar and Plot Results\n",
    "For this part of the lab you will be creating vector $\\vec{av}$ and then adding to the plot as a dotted cyan colored vector.\n",
    "\n",
    "   1.  Multiply vector $\\vec{v}$ by scalar $a$ in the code below (see TODO 1.:).\n",
    " \n",
    "\n",
    "   2. Use the ax.arrow(...) statement in the code below to add vector $\\vec{av}$ to the plot (see *TODO 2.:). Adding linestyle = 'dotted' and changing color = 'c' in the ax.arrow(...) statement will make vector $\\vec{av}$ a dotted cyan colored vector."
   ]
  },
  {
   "cell_type": "code",
   "execution_count": 20,
   "metadata": {},
   "outputs": [
    {
     "data": {
      "image/png": "[encoded data removed]",
      "text/plain": [
       "<Figure size 432x288 with 1 Axes>"
      ]
     },
     "metadata": {},
     "output_type": "display_data"
    }
   ],
   "source": [
    "#Importing Numpy and matplotlib\n",
    "import numpy as np\n",
    "import matplotlib.pyplot as plt\n",
    "\n",
    "# Define vector v\n",
    "v = np.array([1,1])\n",
    "\n",
    "# Define Scalar a\n",
    "a =3\n",
    "\n",
    "# Define vector av - v as a vector multiplied by scalar a\n",
    "av = a*v\n",
    "\n",
    "# plot vector v as blue arrow with red dot at origin(0,0) using matplotlib\n",
    "\n",
    "# creates axis of plot refernced 'ax'\n",
    "ax = plt.axes()\n",
    "\n",
    "# plot red dot at origin\n",
    "ax.plot(0,0,'or')\n",
    "\n",
    "# plot vector v as blue arrow starting at origin(0,0)\n",
    "ax.arrow(0, 0, *v, color='b',linewidth = 2.5,head_width = 0.30, head_length = 0.35)\n",
    "\n",
    "# plot vector as dotted (linestyle='dotted') vector of cyan color(color='c')\n",
    "# using ax.arrow() above as template for the plot\n",
    "ax.arrow(0, 0, *av, color='c', linestyle='dotted', linewidth=2.5, head_width=0.30, head_length=0.35)\n",
    "\n",
    "# set limit for x axis\n",
    "plt.xlim(-2,4)\n",
    "\n",
    "# Set major ticks for x-axis\n",
    "major_xticks = np.arange(-2, 4)\n",
    "ax.set_xticks(major_xticks)\n",
    "\n",
    "\n",
    "# set limit for y axis\n",
    "plt.ylim(-2,4)\n",
    "\n",
    "# Set major ticks for y-axis\n",
    "major_yticks = np.arange(-1, 4)\n",
    "ax.set_yticks(major_yticks)\n",
    "\n",
    "\n",
    "# create gridlines for tick marks\n",
    "plt.grid(b=True,which='major' )\n",
    "\n",
    "\n",
    "plt.show()"
   ]
  },
  {
   "cell_type": "markdown",
   "metadata": {},
   "source": [
    "### TODO: Adding Two Vectors and Plotting Results\n",
    "For this part of the lab you will be creating vector $\\vec{vw}$ and then adding it to the plot as a thicker width black colored vector.\n",
    "\n",
    "   1.  Create vector $\\vec{vw}$ by adding vector $\\vec{w}$ to vector $\\vec{v}$ in the code below (see TODO 1.:).\n",
    " \n",
    "\n",
    "   2.  Use the ax.arrow(...) statement in the code below to add vector $\\vec{vw}$ to the plot (see *TODO 2.:). Changing linewidth = 3.5 and color = 'k' in the ax.arrow(...) statement will make vector $\\vec{vw}$ a thicker width black colored vector."
   ]
  },
  {
   "cell_type": "code",
   "execution_count": null,
   "metadata": {},
   "outputs": [],
   "source": []
  }
 ],
 "metadata": {
  "kernelspec": {
   "display_name": "Python 3",
   "language": "python",
   "name": "python3"
  },
  "language_info": {
   "codemirror_mode": {
    "name": "ipython",
    "version": 3
   },
   "file_extension": ".py",
   "mimetype": "text/x-python",
   "name": "python",
   "nbconvert_exporter": "python",
   "pygments_lexer": "ipython3",
   "version": "3.6.5"
  }
 },
 "nbformat": 4,
 "nbformat_minor": 2
}
